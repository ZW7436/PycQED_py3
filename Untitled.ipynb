{
 "cells": [
  {
   "cell_type": "code",
   "execution_count": 44,
   "metadata": {},
   "outputs": [
    {
     "name": "stdout",
     "output_type": "stream",
     "text": [
      "[5, 1, 3, 4, 6, 2, 0]\n"
     ]
    },
    {
     "data": {
      "text/plain": [
       "[5, 1, 2, 3, 4, 0, 6]"
      ]
     },
     "execution_count": 44,
     "metadata": {},
     "output_type": "execute_result"
    }
   ],
   "source": [
    "#scratchbook detector functions\n",
    "import numpy\n",
    "\n",
    "\n",
    "_resonator_codeword_bit_mapping=[[0,2,3,5,6],[1,4]]\n",
    "_feedline_ids=(0,1)\n",
    "\n",
    "qubits = [5,1,2,3,4,0,6]\n",
    "feed_line_nrs = [0,0,1,0,0,1,0]\n",
    "channel_names= ['w6', 'w5', 'w4', 'w3', 'w2', 'w1', 'w0']\n",
    "\n",
    "\n",
    "sort_args=numpy.argsort(feed_line_nrs)\n",
    "invert_sort_args=sort_args.argsort()\n",
    "\n",
    "sorted_feed_line_nrs = [feed_line_nrs[i] for i in sort_args]\n",
    "sorted_qubits = [qubits[i] for i in sort_args]\n",
    "\n",
    "print(sorted_qubits)\n",
    "sorted_channel_names = [channel_names[i] for i in sort_args]\n",
    "\n",
    "\n",
    "[sorted_qubits[i] for i in invert_sort_args]\n",
    "\n"
   ]
  },
  {
   "cell_type": "code",
   "execution_count": 38,
   "metadata": {},
   "outputs": [
    {
     "data": {
      "text/plain": [
       "[6, 5, 4, 3, 2, 1, 0]"
      ]
     },
     "execution_count": 38,
     "metadata": {},
     "output_type": "execute_result"
    }
   ],
   "source": []
  },
  {
   "cell_type": "code",
   "execution_count": 35,
   "metadata": {},
   "outputs": [
    {
     "data": {
      "text/plain": [
       "array([0, 1, 5, 2, 3, 6, 4])"
      ]
     },
     "execution_count": 35,
     "metadata": {},
     "output_type": "execute_result"
    }
   ],
   "source": []
  },
  {
   "cell_type": "code",
   "execution_count": 32,
   "metadata": {
    "collapsed": true
   },
   "outputs": [],
   "source": [
    "sorted_qubits = [qubits[i] for i in sort_args]"
   ]
  },
  {
   "cell_type": "code",
   "execution_count": 33,
   "metadata": {},
   "outputs": [
    {
     "data": {
      "text/plain": [
       "[6, 5, 3, 2, 0, 4, 1]"
      ]
     },
     "execution_count": 33,
     "metadata": {},
     "output_type": "execute_result"
    }
   ],
   "source": [
    "sorted_qubits"
   ]
  },
  {
   "cell_type": "code",
   "execution_count": null,
   "metadata": {
    "collapsed": true
   },
   "outputs": [],
   "source": []
  }
 ],
 "metadata": {
  "kernelspec": {
   "display_name": "Python 3",
   "language": "python",
   "name": "python3"
  },
  "language_info": {
   "codemirror_mode": {
    "name": "ipython",
    "version": 3
   },
   "file_extension": ".py",
   "mimetype": "text/x-python",
   "name": "python",
   "nbconvert_exporter": "python",
   "pygments_lexer": "ipython3",
   "version": "3.6.3"
  }
 },
 "nbformat": 4,
 "nbformat_minor": 2
}
